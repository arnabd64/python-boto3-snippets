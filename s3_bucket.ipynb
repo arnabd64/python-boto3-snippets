{
 "cells": [
  {
   "cell_type": "markdown",
   "metadata": {},
   "source": [
    "# S3 Buckets\n",
    "\n",
    "Amazon S3 (Simple Storage Service) is a scalable cloud-based object storage service provided by Amazon Web Services (AWS). It allows users to store and retrieve large amounts of data, such as documents, images, videos, and other types of unstructured data, over the internet. S3 is designed to be highly durable, available, and secure, making it a popular choice for various applications, including data backup, data archiving, content delivery, application data storage, and more."
   ]
  },
  {
   "cell_type": "code",
   "execution_count": 1,
   "metadata": {},
   "outputs": [
    {
     "data": {
      "text/plain": [
       "'boto3 version: 1.28.8'"
      ]
     },
     "metadata": {},
     "output_type": "display_data"
    }
   ],
   "source": [
    "import boto3\n",
    "\n",
    "display(\"boto3 version: \" + boto3.__version__)"
   ]
  },
  {
   "cell_type": "code",
   "execution_count": 13,
   "metadata": {},
   "outputs": [],
   "source": [
    "# create a client for S3\n",
    "s3_client = boto3.client(\"s3\")"
   ]
  },
  {
   "cell_type": "code",
   "execution_count": 25,
   "metadata": {},
   "outputs": [
    {
     "data": {
      "text/plain": [
       "['textract-testrun-1']"
      ]
     },
     "metadata": {},
     "output_type": "display_data"
    }
   ],
   "source": [
    "# list all the buckets available\n",
    "r = s3_client.list_buckets()\n",
    "buckets = [bucket[\"Name\"] for bucket in r[\"Buckets\"]]\n",
    "display(buckets)"
   ]
  },
  {
   "cell_type": "code",
   "execution_count": 37,
   "metadata": {},
   "outputs": [
    {
     "data": {
      "text/plain": [
       "['upload/table_1.pdf', 'upload/table_2.pdf']"
      ]
     },
     "metadata": {},
     "output_type": "display_data"
    }
   ],
   "source": [
    "# list all the objects in a bucket\n",
    "r = s3_client.list_objects(Bucket = \"textract-testrun-1\")\n",
    "objects = [object[\"Key\"] for object in r[\"Contents\"]]\n",
    "display(objects)"
   ]
  },
  {
   "cell_type": "code",
   "execution_count": 34,
   "metadata": {},
   "outputs": [],
   "source": [
    "# download a file from S3\n",
    "r = s3_client.get_object(Bucket = \"textract-testrun-1\", Key = \"upload/table_2.pdf\")\n",
    "\n",
    "# save it locally\n",
    "with open(\"table_2.pdf\", \"wb\") as f:\n",
    "    f.write(r[\"Body\"].read())\n",
    "    \n",
    "# or keep it in a buffer\n",
    "pdf_file = r[\"Body\"].read()"
   ]
  }
 ],
 "metadata": {
  "kernelspec": {
   "display_name": "venv",
   "language": "python",
   "name": "python3"
  },
  "language_info": {
   "codemirror_mode": {
    "name": "ipython",
    "version": 3
   },
   "file_extension": ".py",
   "mimetype": "text/x-python",
   "name": "python",
   "nbconvert_exporter": "python",
   "pygments_lexer": "ipython3",
   "version": "3.10.11"
  },
  "orig_nbformat": 4
 },
 "nbformat": 4,
 "nbformat_minor": 2
}
